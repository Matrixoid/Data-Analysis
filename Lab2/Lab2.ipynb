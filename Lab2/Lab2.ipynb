{
 "cells": [
  {
   "cell_type": "markdown",
   "id": "09b258ea",
   "metadata": {},
   "source": [
    "setup.py:\n",
    "\n",
    "from setuptools import setup\n",
    "\n",
    "setup(\n",
    "    name='lordmatrixoid_module',\n",
    "    version='1.0',\n",
    "    description='An example Python package',\n",
    "    url='https://github.com/',\n",
    "    author='Lord Matrixoid',\n",
    "    author_email='mr.art.pro@mail.ru',\n",
    "    license='BSD 2-clause',\n",
    "    packages=['lordmatrixoid_module'],\n",
    "    install_requires=[\n",
    "                      'numpy',\n",
    "                      'matplotlib',\n",
    "                      ],\n",
    ")"
   ]
  },
  {
   "cell_type": "markdown",
   "id": "3b88e4d2",
   "metadata": {},
   "source": [
    "Проверим работу модуля локально, для этого воспользуемся командой pip install . из корня нашего проекта\n",
    "\n",
    "pip install .\n",
    "WARNING: Ignoring invalid distribution -pencv-python (c:\\users\\tema\\appdata\\local\\programs\\python\\python39\\lib\\site-packages)\n",
    "WARNING: Ignoring invalid distribution -pencv-python (c:\\users\\tema\\appdata\\local\\programs\\python\\python39\\lib\\site-packages)\n",
    "Processing c:\\users\\tema\\data analysis labs\\lab2\\lordmatrixoid_module\n",
    "  Preparing metadata (setup.py) ... done\n",
    "Requirement already satisfied: numpy in c:\\users\\tema\\appdata\\local\\programs\\python\\python39\\lib\\site-packages (from lordmatrixoid-module==1.0) (1.20.3)\n",
    "Requirement already satisfied: matplotlib in c:\\users\\tema\\appdata\\local\\programs\\python\\python39\\lib\\site-packages (from lordmatrixoid-module==1.0) (3.4.3)\n",
    "Requirement already satisfied: cycler>=0.10 in c:\\users\\tema\\appdata\\local\\programs\\python\\python39\\lib\\site-packages (from matplotlib->lordmatrixoid-module==1.0) (0.10.0)\n",
    "Requirement already satisfied: kiwisolver>=1.0.1 in c:\\users\\tema\\appdata\\local\\programs\\python\\python39\\lib\\site-packages (from matplotlib->lordmatrixoid-module==1.0) (1.3.2)\n",
    "Requirement already satisfied: python-dateutil>=2.7 in c:\\users\\tema\\appdata\\local\\programs\\python\\python39\\lib\\site-packages (from matplotlib->lordmatrixoid-module==1.0) (2.8.2)\n",
    "Requirement already satisfied: pillow>=6.2.0 in c:\\users\\tema\\appdata\\local\\programs\\python\\python39\\lib\\site-packages (from matplotlib->lordmatrixoid-module==1.0) (8.3.2)\n",
    "Requirement already satisfied: pyparsing>=2.2.1 in c:\\users\\tema\\appdata\\local\\programs\\python\\python39\\lib\\site-packages (from matplotlib->lordmatrixoid-module==1.0) (2.4.7)\n",
    "Requirement already satisfied: six in c:\\users\\tema\\appdata\\local\\programs\\python\\python39\\lib\\site-packages (from cycler>=0.10->matplotlib->lordmatrixoid-module==1.0) (1.16.0)\n",
    "Building wheels for collected packages: lordmatrixoid-module\n",
    "  Building wheel for lordmatrixoid-module (setup.py) ... done\n",
    "  Created wheel for lordmatrixoid-module: filename=lordmatrixoid_module-1.0-py3-none-any.whl size=1889 sha256=6319fb91d4a39b3a73652763696a71d50db57061b9ab5369baf794de9759874b\n",
    "  Stored in directory: C:\\Users\\tema\\AppData\\Local\\Temp\\pip-ephem-wheel-cache-jewirqt_\\wheels\\0d\\21\\68\\42f37b5ee0013b1a74dc174f373d9fc1a976b1f04e8df6b4f3\n",
    "Successfully built lordmatrixoid-module\n",
    "WARNING: Ignoring invalid distribution -pencv-python (c:\\users\\tema\\appdata\\local\\programs\\python\\python39\\lib\\site-packages)\n",
    "Installing collected packages: lordmatrixoid-module\n",
    "WARNING: Ignoring invalid distribution -pencv-python (c:\\users\\tema\\appdata\\local\\programs\\python\\python39\\lib\\site-packages)\n",
    "Successfully installed lordmatrixoid-module-1.0\n",
    "WARNING: Ignoring invalid distribution -pencv-python (c:\\users\\tema\\appdata\\local\\programs\\python\\python39\\lib\\site-packages)\n",
    "WARNING: Ignoring invalid distribution -pencv-python (c:\\users\\tema\\appdata\\local\\programs\\python\\python39\\lib\\site-packages)"
   ]
  },
  {
   "cell_type": "code",
   "execution_count": 1,
   "id": "be98f066",
   "metadata": {},
   "outputs": [],
   "source": [
    "import lordmatrixoid_module"
   ]
  },
  {
   "cell_type": "code",
   "execution_count": 2,
   "id": "f710dffb",
   "metadata": {},
   "outputs": [
    {
     "data": {
      "text/plain": [
       "'Lord Matrixoid'"
      ]
     },
     "execution_count": 2,
     "metadata": {},
     "output_type": "execute_result"
    }
   ],
   "source": [
    "lordmatrixoid_module.__author__"
   ]
  },
  {
   "cell_type": "code",
   "execution_count": 3,
   "id": "6b7ea206",
   "metadata": {},
   "outputs": [
    {
     "data": {
      "text/plain": [
       "'1.0'"
      ]
     },
     "execution_count": 3,
     "metadata": {},
     "output_type": "execute_result"
    }
   ],
   "source": [
    "lordmatrixoid_module.__version__"
   ]
  },
  {
   "cell_type": "code",
   "execution_count": 4,
   "id": "d01f8beb",
   "metadata": {},
   "outputs": [
    {
     "data": {
      "text/plain": [
       "<BarContainer object of 4 artists>"
      ]
     },
     "execution_count": 4,
     "metadata": {},
     "output_type": "execute_result"
    },
    {
     "data": {
      "image/png": "[encoded data removed]",
      "text/plain": [
       "<Figure size 432x288 with 1 Axes>"
      ]
     },
     "metadata": {
      "needs_background": "light"
     },
     "output_type": "display_data"
    }
   ],
   "source": [
    "import lordmatrixoid_module.fast_histogram as fastHist\n",
    "import matplotlib.pyplot as plt\n",
    "\n",
    "X = [1.2, 2.1, 1.2, 3.5, 4.6, 1.2, 2.1, 3.5, 4.6]\n",
    "value_counts, bins = fastHist.fast_hist(X, len(set(X)))\n",
    "\n",
    "plt.bar(bins, value_counts, width = 0.7)"
   ]
  },
  {
   "cell_type": "markdown",
   "id": "1499a27d",
   "metadata": {},
   "source": [
    "pip uninstall lordmatrixoid_module\n",
    "WARNING: Ignoring invalid distribution -pencv-python (c:\\users\\tema\\appdata\\local\\programs\\python\\python39\\lib\\site-packages)\n",
    "WARNING: Ignoring invalid distribution -pencv-python (c:\\users\\tema\\appdata\\local\\programs\\python\\python39\\lib\\site-packages)\n",
    "Found existing installation: lordmatrixoid-module 1.0\n",
    "Uninstalling lordmatrixoid-module-1.0:\n",
    "  Would remove:\n",
    "    c:\\users\\tema\\appdata\\local\\programs\\python\\python39\\lib\\site-packages\\lordmatrixoid_module-1.0.dist-info\\*\n",
    "    c:\\users\\tema\\appdata\\local\\programs\\python\\python39\\lib\\site-packages\\lordmatrixoid_module\\*\n",
    "Proceed (Y/n)? y\n",
    "  Successfully uninstalled lordmatrixoid-module-1.0"
   ]
  },
  {
   "cell_type": "markdown",
   "id": "21fba67d",
   "metadata": {},
   "source": [
    "Создание дистрибутива.\n",
    "\n",
    "PyPI имеет определенные необходимые метаданные, которые должен предоставить setup.py. Проверим это командой\n",
    "\"python setup.py check\".\n",
    "\n",
    "running check\n",
    "\n",
    "Если не поругалась, то все в порядке."
   ]
  },
  {
   "cell_type": "markdown",
   "id": "28b52b51",
   "metadata": {},
   "source": [
    "Теперь создадим дистрибутив из корня моего модуля командой \"python setup.py sdist\"\n",
    "\n",
    "python setup.py sdist\n",
    "running sdist\n",
    "running egg_info\n",
    "writing lordmatrixoid_module.egg-info\\PKG-INFO\n",
    "writing dependency_links to lordmatrixoid_module.egg-info\\dependency_links.txt\n",
    "writing requirements to lordmatrixoid_module.egg-info\\requires.txt\n",
    "writing top-level names to lordmatrixoid_module.egg-info\\top_level.txt\n",
    "reading manifest file 'lordmatrixoid_module.egg-info\\SOURCES.txt'\n",
    "writing manifest file 'lordmatrixoid_module.egg-info\\SOURCES.txt'\n",
    "warning: sdist: standard file not found: should have one of README, README.rst, README.txt, README.md\n",
    "\n",
    "running check\n",
    "creating lordmatrixoid_module-1.0\n",
    "creating lordmatrixoid_module-1.0\\lordmatrixoid_module\n",
    "creating lordmatrixoid_module-1.0\\lordmatrixoid_module.egg-info\n",
    "copying files to lordmatrixoid_module-1.0...\n",
    "copying setup.py -> lordmatrixoid_module-1.0\n",
    "copying lordmatrixoid_module\\__init__.py -> lordmatrixoid_module-1.0\\lordmatrixoid_module\n",
    "copying lordmatrixoid_module\\fast_histogram.py -> lordmatrixoid_module-1.0\\lordmatrixoid_module\n",
    "copying lordmatrixoid_module.egg-info\\PKG-INFO -> lordmatrixoid_module-1.0\\lordmatrixoid_module.egg-info\n",
    "copying lordmatrixoid_module.egg-info\\SOURCES.txt -> lordmatrixoid_module-1.0\\lordmatrixoid_module.egg-info\n",
    "copying lordmatrixoid_module.egg-info\\dependency_links.txt -> lordmatrixoid_module-1.0\\lordmatrixoid_module.egg-info\n",
    "copying lordmatrixoid_module.egg-info\\requires.txt -> lordmatrixoid_module-1.0\\lordmatrixoid_module.egg-info\n",
    "copying lordmatrixoid_module.egg-info\\top_level.txt -> lordmatrixoid_module-1.0\\lordmatrixoid_module.egg-info\n",
    "Writing lordmatrixoid_module-1.0\\setup.cfg\n",
    "creating dist\n",
    "Creating tar archive\n",
    "removing 'lordmatrixoid_module-1.0' (and everything under it)"
   ]
  },
  {
   "cell_type": "markdown",
   "id": "f383397e",
   "metadata": {},
   "source": [
    "twine upload --repository-url https://test.pypi.org/legacy/ dist/*\n",
    "Uploading distributions to https://test.pypi.org/legacy/\n",
    "Enter your username: LordMatrixoid\n",
    "Enter your password:\n",
    "Uploading lordmatrixoid_module-1.0.tar.gz\n",
    "100%|█████████████████████████████████████████████████████████████████████████████| 3.94k/3.94k [00:01<00:00, 2.22kB/s]\n",
    "\n",
    "View at:\n",
    "https://test.pypi.org/project/lordmatrixoid-module/1.0/"
   ]
  },
  {
   "cell_type": "markdown",
   "id": "98ee4262",
   "metadata": {},
   "source": [
    "twine upload dist/*\n",
    "Uploading distributions to https://upload.pypi.org/legacy/\n",
    "Enter your username: LordMatrixoid\n",
    "Enter your password:\n",
    "Uploading lordmatrixoid_module-1.0.tar.gz\n",
    "100%|█████████████████████████████████████████████████████████████████████████████| 3.94k/3.94k [00:02<00:00, 1.73kB/s]\n",
    "\n",
    "View at:\n",
    "https://pypi.org/project/lordmatrixoid-module/1.0/"
   ]
  },
  {
   "cell_type": "code",
   "execution_count": 5,
   "id": "f2a36356",
   "metadata": {},
   "outputs": [
    {
     "name": "stdout",
     "output_type": "stream",
     "text": [
      "Collecting lordmatrixoid_module\n",
      "  Downloading lordmatrixoid_module-1.0.tar.gz (1.3 kB)\n",
      "  Preparing metadata (setup.py): started\n",
      "  Preparing metadata (setup.py): finished with status 'done'\n",
      "Requirement already satisfied: numpy in c:\\users\\tema\\appdata\\local\\programs\\python\\python39\\lib\\site-packages (from lordmatrixoid_module) (1.20.3)\n",
      "Requirement already satisfied: matplotlib in c:\\users\\tema\\appdata\\local\\programs\\python\\python39\\lib\\site-packages (from lordmatrixoid_module) (3.4.3)\n",
      "Requirement already satisfied: kiwisolver>=1.0.1 in c:\\users\\tema\\appdata\\local\\programs\\python\\python39\\lib\\site-packages (from matplotlib->lordmatrixoid_module) (1.3.2)\n",
      "Requirement already satisfied: pillow>=6.2.0 in c:\\users\\tema\\appdata\\local\\programs\\python\\python39\\lib\\site-packages (from matplotlib->lordmatrixoid_module) (8.3.2)\n",
      "Requirement already satisfied: python-dateutil>=2.7 in c:\\users\\tema\\appdata\\local\\programs\\python\\python39\\lib\\site-packages (from matplotlib->lordmatrixoid_module) (2.8.2)\n",
      "Requirement already satisfied: cycler>=0.10 in c:\\users\\tema\\appdata\\local\\programs\\python\\python39\\lib\\site-packages (from matplotlib->lordmatrixoid_module) (0.10.0)\n",
      "Requirement already satisfied: pyparsing>=2.2.1 in c:\\users\\tema\\appdata\\local\\programs\\python\\python39\\lib\\site-packages (from matplotlib->lordmatrixoid_module) (2.4.7)\n",
      "Requirement already satisfied: six in c:\\users\\tema\\appdata\\local\\programs\\python\\python39\\lib\\site-packages (from cycler>=0.10->matplotlib->lordmatrixoid_module) (1.16.0)\n",
      "Building wheels for collected packages: lordmatrixoid-module\n",
      "  Building wheel for lordmatrixoid-module (setup.py): started\n",
      "  Building wheel for lordmatrixoid-module (setup.py): finished with status 'done'\n",
      "  Created wheel for lordmatrixoid-module: filename=lordmatrixoid_module-1.0-py3-none-any.whl size=1889 sha256=51ecaceb3d9067338c76fc98c97238aa759e98448f6b572bf52c51601819459e\n",
      "  Stored in directory: c:\\users\\tema\\appdata\\local\\pip\\cache\\wheels\\0c\\7f\\80\\97b4c6901302791ecf3e5b98b49cec76b3a305bb542adf1a72\n",
      "Successfully built lordmatrixoid-module\n",
      "Installing collected packages: lordmatrixoid-module\n",
      "Successfully installed lordmatrixoid-module-1.0\n"
     ]
    },
    {
     "name": "stderr",
     "output_type": "stream",
     "text": [
      "WARNING: Ignoring invalid distribution -pencv-python (c:\\users\\tema\\appdata\\local\\programs\\python\\python39\\lib\\site-packages)\n",
      "WARNING: Ignoring invalid distribution -pencv-python (c:\\users\\tema\\appdata\\local\\programs\\python\\python39\\lib\\site-packages)\n",
      "WARNING: Ignoring invalid distribution -pencv-python (c:\\users\\tema\\appdata\\local\\programs\\python\\python39\\lib\\site-packages)\n",
      "WARNING: Ignoring invalid distribution -pencv-python (c:\\users\\tema\\appdata\\local\\programs\\python\\python39\\lib\\site-packages)\n",
      "WARNING: Ignoring invalid distribution -pencv-python (c:\\users\\tema\\appdata\\local\\programs\\python\\python39\\lib\\site-packages)\n",
      "WARNING: Ignoring invalid distribution -pencv-python (c:\\users\\tema\\appdata\\local\\programs\\python\\python39\\lib\\site-packages)\n"
     ]
    }
   ],
   "source": [
    "!pip install lordmatrixoid_module"
   ]
  },
  {
   "cell_type": "code",
   "execution_count": 6,
   "id": "35967a09",
   "metadata": {},
   "outputs": [],
   "source": [
    "import lordmatrixoid_module"
   ]
  },
  {
   "cell_type": "code",
   "execution_count": 7,
   "id": "c5e340fd",
   "metadata": {},
   "outputs": [
    {
     "data": {
      "text/plain": [
       "'Lord Matrixoid'"
      ]
     },
     "execution_count": 7,
     "metadata": {},
     "output_type": "execute_result"
    }
   ],
   "source": [
    "lordmatrixoid_module.__author__"
   ]
  },
  {
   "cell_type": "code",
   "execution_count": 8,
   "id": "e466ace5",
   "metadata": {},
   "outputs": [
    {
     "data": {
      "text/plain": [
       "'1.0'"
      ]
     },
     "execution_count": 8,
     "metadata": {},
     "output_type": "execute_result"
    }
   ],
   "source": [
    "lordmatrixoid_module.__version__"
   ]
  },
  {
   "cell_type": "code",
   "execution_count": 9,
   "id": "1f832a01",
   "metadata": {},
   "outputs": [
    {
     "data": {
      "text/plain": [
       "<BarContainer object of 4 artists>"
      ]
     },
     "execution_count": 9,
     "metadata": {},
     "output_type": "execute_result"
    },
    {
     "data": {
      "image/png": "[encoded data removed]",
      "text/plain": [
       "<Figure size 432x288 with 1 Axes>"
      ]
     },
     "metadata": {
      "needs_background": "light"
     },
     "output_type": "display_data"
    }
   ],
   "source": [
    "import lordmatrixoid_module.fast_histogram as fastHist\n",
    "import matplotlib.pyplot as plt\n",
    "\n",
    "X = [1.2, 2.1, 1.2, 3.5, 4.6, 1.2, 2.1, 3.5, 4.6]\n",
    "value_counts, bins = fastHist.fast_hist(X, len(set(X)))\n",
    "\n",
    "plt.bar(bins, value_counts, width = 0.7)"
   ]
  },
  {
   "cell_type": "code",
   "execution_count": 16,
   "id": "311dcc5f",
   "metadata": {},
   "outputs": [
    {
     "name": "stdout",
     "output_type": "stream",
     "text": [
      "{'labels': ['economics', 'entertainment', 'international', 'sports', 'state'], 'path_to_table': ['./stopword/Stopwords.csv'], 'path_to_test_table': ['./Test/final_test_data.csv'], 'seed': 10}\n"
     ]
    }
   ],
   "source": [
    "import yaml\n",
    "from typing import List, Tuple, Union\n",
    "\n",
    "with open('./consts.yaml') as f:\n",
    "    templates = yaml.safe_load(f)\n",
    "\n",
    "print(templates)"
   ]
  },
  {
   "cell_type": "code",
   "execution_count": 19,
   "id": "a5b95dcf",
   "metadata": {},
   "outputs": [],
   "source": [
    "%matplotlib inline\n",
    "import matplotlib.pyplot as plt\n",
    "from sklearn.metrics import confusion_matrix\n",
    "\n",
    "labels = templates['labels']\n",
    "def draw_result(y_test: List[float],\n",
    "                y_pred: List[float]) -> List[float]:\n",
    "    def plot_confusion_matrix(y_test: List[float],\n",
    "                              y_pred: List[float],\n",
    "                              normalize=False,\n",
    "                              title=None,\n",
    "                              cmap=plt.cm.Blues):\n",
    "        \"\"\"\n",
    "        This function prints and plots the confusion matrix.\n",
    "        Normalization can be applied by setting `normalize=True`.\n",
    "        \"\"\"\n",
    "        if not title:\n",
    "            if normalize:\n",
    "                title = 'Normalized confusion matrix'\n",
    "            else:\n",
    "                title = 'Confusion matrix, without normalization'\n",
    "\n",
    "        # Compute confusion matrix\n",
    "        cm = confusion_matrix(y_test, y_pred)\n",
    "        if normalize:\n",
    "            cm = cm.astype('float') / cm.sum(axis=1)[:, np.newaxis]\n",
    "            print(\"Normalized confusion matrix\")\n",
    "        else:\n",
    "            print('Confusion matrix, without normalization')\n",
    "\n",
    "        print(cm)\n",
    "\n",
    "        fig, ax = plt.subplots()\n",
    "        im = ax.imshow(cm, interpolation='nearest', cmap=cmap)\n",
    "        ax.figure.colorbar(im, ax=ax)\n",
    "        # We want to show all ticks...\n",
    "        ax.set(xticks=np.arange(cm.shape[1]),\n",
    "               yticks=np.arange(cm.shape[0]),\n",
    "               # ... and label them with the respective list entries\n",
    "               xticklabels=labels, yticklabels=labels,\n",
    "               title=title,\n",
    "               ylabel='True label',\n",
    "               xlabel='Predicted label')\n",
    "\n",
    "        # Rotate the tick labels and set their alignment.\n",
    "        plt.setp(ax.get_xticklabels(), rotation=45, ha=\"right\",\n",
    "                 rotation_mode=\"anchor\")\n",
    "\n",
    "        # Loop over data dimensions and create text annotations.\n",
    "        fmt = '.2f' if normalize else 'd'\n",
    "        thresh = cm.max() / 2.\n",
    "        for i in range(cm.shape[0]):\n",
    "            for j in range(cm.shape[1]):\n",
    "                ax.text(j, i, format(cm[i, j], fmt),\n",
    "                        ha=\"center\", va=\"center\",\n",
    "                        color=\"white\" if cm[i, j] > thresh else \"black\")\n",
    "        fig.tight_layout()\n",
    "        plt.xlim(-0.5, len(np.unique(y_test))-0.5)\n",
    "        plt.ylim(len(np.unique(y_test))-0.5, -0.5)\n",
    "        return ax\n",
    "    \n",
    "    np.set_printoptions(precision=2)\n",
    "\n",
    "    # Plot non-normalized confusion matrix\n",
    "    plot_confusion_matrix(y_test, y_pred, classes=labels,\n",
    "                          title='Confusion matrix, without normalization')\n",
    "\n",
    "    # Plot normalized confusion matrix\n",
    "    plot_confusion_matrix(y_test, y_pred, classes=labels, normalize=True,\n",
    "                          title='Normalized confusion matrix')\n",
    "\n",
    "    plt.show()"
   ]
  },
  {
   "cell_type": "markdown",
   "id": "616b3fe2",
   "metadata": {},
   "source": [
    "Сразу в глаза бросается один и тот же код для отображения результата. Вынесу его в functions.py. labels буду получать из yaml файла. А также можно вынести функцию подсчета данных."
   ]
  },
  {
   "cell_type": "code",
   "execution_count": 20,
   "id": "2c872324",
   "metadata": {},
   "outputs": [],
   "source": [
    "from sklearn.pipeline import Pipeline\n",
    "from sklearn.feature_extraction.text import CountVectorizer\n",
    "from sklearn.feature_extraction.text import TfidfTransformer\n",
    "from sklearn.metrics import accuracy_score\n",
    "from sklearn.model_selection import cross_val_score\n",
    "from sklearn.metrics import classification_report\n",
    "from sklearn.linear_model import SGDClassifier\n",
    "from sklearn.naive_bayes import MultinomialNB\n",
    "from sklearn.ensemble import RandomForestClassifier\n",
    "from sklearn.tree import DecisionTreeClassifier\n",
    "from sklearn.linear_model import LogisticRegression\n",
    "\n",
    "def table_and_get_restult(clf: Union[SGDClassifier,\n",
    "                                     MultinomialNB,\n",
    "                                     RandomForestClassifier,\n",
    "                                     DecisionTreeClassifier,\n",
    "                                     LogisticRegression],\n",
    "                          X_train: List[float],\n",
    "                          y_train: List[float],\n",
    "                          X_test: List[float],\n",
    "                          y_test: List[float]) -> List[float]:\n",
    "    svm = Pipeline([('vect', CountVectorizer()), \n",
    "                   ('tfidf', TfidfTransformer()),\n",
    "                   ('clf', clf),\n",
    "                  ])\n",
    "    Gmodel=svm.fit(X_train, y_train)\n",
    "    y_pred = svm.predict(X_test)\n",
    "\n",
    "    accuracy = cross_val_score(Gmodel,X_train,y_train,cv=5,scoring='accuracy')\n",
    "    print(\"Cross val score:\",accuracy)\n",
    "    print(\"Accuracy of Model with Cross Validation is:\",accuracy.mean() * 100)\n",
    "    print('accuracy %s' % accuracy_score(y_pred, y_test, normalize=False))\n",
    "    print('accuracy normalized %s' % accuracy_score(y_pred, y_test))\n",
    "    print(classification_report(y_test, y_pred,target_names=labels))\n",
    "    return y_pred"
   ]
  },
  {
   "cell_type": "code",
   "execution_count": null,
   "id": "6bddba54",
   "metadata": {},
   "outputs": [],
   "source": []
  }
 ],
 "metadata": {
  "kernelspec": {
   "display_name": "Python 3 (ipykernel)",
   "language": "python",
   "name": "python3"
  },
  "language_info": {
   "codemirror_mode": {
    "name": "ipython",
    "version": 3
   },
   "file_extension": ".py",
   "mimetype": "text/x-python",
   "name": "python",
   "nbconvert_exporter": "python",
   "pygments_lexer": "ipython3",
   "version": "3.9.7"
  }
 },
 "nbformat": 4,
 "nbformat_minor": 5
}
