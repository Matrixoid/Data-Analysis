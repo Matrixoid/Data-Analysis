{
 "cells": [
  {
   "cell_type": "code",
   "execution_count": 14,
   "id": "65231e96",
   "metadata": {},
   "outputs": [],
   "source": [
    "import numpy as np\n",
    "from typing import List, Tuple, Union\n",
    "import matplotlib.pyplot as plt\n",
    "import random"
   ]
  },
  {
   "cell_type": "code",
   "execution_count": 25,
   "id": "900d257c",
   "metadata": {},
   "outputs": [],
   "source": [
    "def fast_hist(X: List[Union[int, float]], \n",
    "              bins_num: int) -> Tuple[List[int], List[float]]:\n",
    "\n",
    "    X_max = max(X)\n",
    "    X_min = min(X)\n",
    "    l = (X_max - X_min) / bins_num\n",
    "    bins = np.arange(X_min, X_max, l)\n",
    "    ans = np.zeros(bins_num)\n",
    "    for val in X:\n",
    "        ans[min(int((val - X_min) / l), bins_num - 1)] += 1\n",
    "    return (np.array([int (x) for x in ans]), bins)"
   ]
  },
  {
   "cell_type": "code",
   "execution_count": 26,
   "id": "ce658389",
   "metadata": {},
   "outputs": [
    {
     "data": {
      "text/plain": [
       "<BarContainer object of 4 artists>"
      ]
     },
     "execution_count": 26,
     "metadata": {},
     "output_type": "execute_result"
    },
    {
     "data": {
      "image/png": "[encoded data removed]",
      "text/plain": [
       "<Figure size 432x288 with 1 Axes>"
      ]
     },
     "metadata": {
      "needs_background": "light"
     },
     "output_type": "display_data"
    }
   ],
   "source": [
    "X = [1,1,2,3,4,1,2,3,4]\n",
    "value_counts, bins = fast_hist(X, len(set(X)))\n",
    "\n",
    "plt.bar(bins, value_counts, width = 0.7)"
   ]
  },
  {
   "cell_type": "code",
   "execution_count": 27,
   "id": "9e808fe3",
   "metadata": {},
   "outputs": [
    {
     "data": {
      "text/plain": [
       "<BarContainer object of 4 artists>"
      ]
     },
     "execution_count": 27,
     "metadata": {},
     "output_type": "execute_result"
    },
    {
     "data": {
      "image/png": "[encoded data removed]",
      "text/plain": [
       "<Figure size 432x288 with 1 Axes>"
      ]
     },
     "metadata": {
      "needs_background": "light"
     },
     "output_type": "display_data"
    }
   ],
   "source": [
    "X = [1.2, 2.1, 1.2, 3.5, 4.6, 1.2, 2.1, 3.5, 4.6]\n",
    "value_counts, bins = fast_hist(X, len(set(X)))\n",
    "\n",
    "plt.bar(bins, value_counts, width = 0.7)"
   ]
  },
  {
   "cell_type": "code",
   "execution_count": 28,
   "id": "7dcc41a3",
   "metadata": {},
   "outputs": [
    {
     "data": {
      "image/png": "[encoded data removed]",
      "text/plain": [
       "<Figure size 432x288 with 1 Axes>"
      ]
     },
     "metadata": {
      "needs_background": "light"
     },
     "output_type": "display_data"
    }
   ],
   "source": [
    "X = [random.randint(0, 51) for _ in range(5000)]\n",
    "\n",
    "plt.hist(X, 100)\n",
    "plt.show()"
   ]
  },
  {
   "cell_type": "code",
   "execution_count": 29,
   "id": "cbd38162",
   "metadata": {},
   "outputs": [
    {
     "data": {
      "text/plain": [
       "<BarContainer object of 100 artists>"
      ]
     },
     "execution_count": 29,
     "metadata": {},
     "output_type": "execute_result"
    },
    {
     "data": {
      "image/png": "[encoded data removed]",
      "text/plain": [
       "<Figure size 432x288 with 1 Axes>"
      ]
     },
     "metadata": {
      "needs_background": "light"
     },
     "output_type": "display_data"
    }
   ],
   "source": [
    "value_counts, bins_names = fast_hist(X, 100)\n",
    "\n",
    "plt.bar(bins_names, value_counts)"
   ]
  },
  {
   "cell_type": "code",
   "execution_count": 30,
   "id": "27b85470",
   "metadata": {},
   "outputs": [
    {
     "name": "stdout",
     "output_type": "stream",
     "text": [
      "12.5 ms ± 106 µs per loop (mean ± std. dev. of 7 runs, 100 loops each)\n",
      "2.64 ms ± 12.3 µs per loop (mean ± std. dev. of 7 runs, 100 loops each)\n"
     ]
    },
    {
     "data": {
      "image/png": "[encoded data removed]",
      "text/plain": [
       "<Figure size 432x288 with 1 Axes>"
      ]
     },
     "metadata": {
      "needs_background": "light"
     },
     "output_type": "display_data"
    }
   ],
   "source": [
    "%timeit plt.hist(X, bins=8)\n",
    "%timeit fast_hist(X, 8)"
   ]
  },
  {
   "cell_type": "code",
   "execution_count": null,
   "id": "b1e0ee44",
   "metadata": {},
   "outputs": [],
   "source": []
  }
 ],
 "metadata": {
  "kernelspec": {
   "display_name": "Python 3 (ipykernel)",
   "language": "python",
   "name": "python3"
  },
  "language_info": {
   "codemirror_mode": {
    "name": "ipython",
    "version": 3
   },
   "file_extension": ".py",
   "mimetype": "text/x-python",
   "name": "python",
   "nbconvert_exporter": "python",
   "pygments_lexer": "ipython3",
   "version": "3.9.7"
  }
 },
 "nbformat": 4,
 "nbformat_minor": 5
}
